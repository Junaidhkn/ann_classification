{
 "cells": [
  {
   "cell_type": "markdown",
   "id": "2e6ab15b",
   "metadata": {},
   "source": [
    "### Numpy: Following the Numpy User Guide"
   ]
  },
  {
   "cell_type": "code",
   "execution_count": 1,
   "id": "0fe92db0",
   "metadata": {},
   "outputs": [],
   "source": [
    "import numpy as np"
   ]
  },
  {
   "cell_type": "code",
   "execution_count": 2,
   "id": "b7e516e6",
   "metadata": {},
   "outputs": [
    {
     "name": "stdout",
     "output_type": "stream",
     "text": [
      "[[2 3 4]\n",
      " [5 6 7]]\n"
     ]
    },
    {
     "data": {
      "text/plain": [
       "(2, 3)"
      ]
     },
     "execution_count": 2,
     "metadata": {},
     "output_type": "execute_result"
    }
   ],
   "source": [
    "a = np.array([[2,3,4],[5,6,7]])\n",
    "print(a)\n",
    "a.shape\n"
   ]
  },
  {
   "cell_type": "code",
   "execution_count": 3,
   "id": "a884acc8",
   "metadata": {},
   "outputs": [
    {
     "data": {
      "text/plain": [
       "np.int64(2)"
      ]
     },
     "execution_count": 3,
     "metadata": {},
     "output_type": "execute_result"
    }
   ],
   "source": [
    "# Accessing element using row and column index position\n",
    "a[0,0] # outputs 2, the first element of the 2 dimensional ndarray [row,column]"
   ]
  },
  {
   "cell_type": "code",
   "execution_count": 4,
   "id": "13b98d0d",
   "metadata": {},
   "outputs": [
    {
     "name": "stdout",
     "output_type": "stream",
     "text": [
      "2\n",
      "int64\n"
     ]
    }
   ],
   "source": [
    "print(a.ndim)\n",
    "print(a.dtype)"
   ]
  },
  {
   "cell_type": "code",
   "execution_count": 5,
   "id": "57d7b7a5",
   "metadata": {},
   "outputs": [
    {
     "name": "stdout",
     "output_type": "stream",
     "text": [
      "a [0. 0.]\n",
      "\n",
      "\n",
      "b [[0. 0. 0.]\n",
      " [0. 0. 0.]]\n",
      "\n",
      "\n",
      "c [[[0. 0. 0. 0.]\n",
      "  [0. 0. 0. 0.]\n",
      "  [0. 0. 0. 0.]]\n",
      "\n",
      " [[0. 0. 0. 0.]\n",
      "  [0. 0. 0. 0.]\n",
      "  [0. 0. 0. 0.]]]\n"
     ]
    }
   ],
   "source": [
    "# 1D (vector)\n",
    "a = np.zeros(2)\n",
    "print('a',a)  # (2,)\n",
    "print('\\n')\n",
    "\n",
    "# 2D (matrix)\n",
    "b = np.zeros((2, 3))\n",
    "print('b',b)  # (2, 3)\n",
    "print(\"\\n\")\n",
    "\n",
    "# 3D (tensor)\n",
    "c = np.zeros((2, 3, 4))\n",
    "print('c',c)"
   ]
  },
  {
   "cell_type": "code",
   "execution_count": 6,
   "id": "3afad174",
   "metadata": {},
   "outputs": [
    {
     "data": {
      "text/plain": [
       "array([[1, 1, 1, 1],\n",
       "       [1, 1, 1, 1]])"
      ]
     },
     "execution_count": 6,
     "metadata": {},
     "output_type": "execute_result"
    }
   ],
   "source": [
    "np.ones((2,4),dtype=np.int64)"
   ]
  },
  {
   "cell_type": "code",
   "execution_count": 7,
   "id": "6ea30b9b",
   "metadata": {},
   "outputs": [
    {
     "data": {
      "text/plain": [
       "array([[0.00000000e+000, 0.00000000e+000, 6.12839552e-310,\n",
       "        6.12839552e-310],\n",
       "       [1.95348647e-315, 4.85237681e-317, 6.12839552e-310,\n",
       "        4.85428983e-317],\n",
       "       [6.12841128e-310, 6.12841129e-310, 6.12839552e-310,\n",
       "        6.12841035e-310]])"
      ]
     },
     "execution_count": 7,
     "metadata": {},
     "output_type": "execute_result"
    }
   ],
   "source": [
    "np.empty((3, 4))  # creates an array whose initial content is random and depends on the state of the memory"
   ]
  },
  {
   "cell_type": "code",
   "execution_count": 8,
   "id": "953d755c",
   "metadata": {},
   "outputs": [
    {
     "name": "stdout",
     "output_type": "stream",
     "text": [
      "[0 1 2 3 4]\n",
      "[2 4 6 8]\n"
     ]
    }
   ],
   "source": [
    "a = np.arange(5)  # create an array with a range of elements\n",
    "print(a)\n",
    "\n",
    "b = np.arange(2, 9, 2)  # contains a range of evenly spaced intervals.,specify the first number, last number, and the step size.\n",
    "print(b)"
   ]
  },
  {
   "cell_type": "code",
   "execution_count": 9,
   "id": "390caae3",
   "metadata": {},
   "outputs": [
    {
     "data": {
      "text/plain": [
       "array([ 0,  2,  4,  6,  8, 10])"
      ]
     },
     "execution_count": 9,
     "metadata": {},
     "output_type": "execute_result"
    }
   ],
   "source": [
    "np.linspace(0,10,6,dtype=np.int64)  # create an array with values that are spaced linearly in a specified interval"
   ]
  },
  {
   "cell_type": "code",
   "execution_count": 10,
   "id": "4b333ad6",
   "metadata": {},
   "outputs": [],
   "source": [
    "arr = np.array([2, 1, 5, 3, 7, 4, 6, 8])"
   ]
  },
  {
   "cell_type": "code",
   "execution_count": 11,
   "id": "df2a84d3",
   "metadata": {},
   "outputs": [
    {
     "data": {
      "text/plain": [
       "array([1, 2, 3, 4, 5, 6, 7, 8])"
      ]
     },
     "execution_count": 11,
     "metadata": {},
     "output_type": "execute_result"
    }
   ],
   "source": [
    "np.sort(arr,stable=True) #  np.sort(arr) also works fine"
   ]
  },
  {
   "cell_type": "markdown",
   "id": "52e2a9fb",
   "metadata": {},
   "source": [
    "### Concatenation\n",
    "\n",
    "For a 1D array: only axis = 0. Only increases the length of the array (column-wise).\n",
    "\n",
    "\n",
    "For a 2D array:\n",
    "\n",
    "\n",
    "      axis=0 → rows (downwards, vertical direction).\n",
    "            ie :\n",
    "                  [[1 2]\n",
    "                  [3 4]\n",
    "                  [5 6]\n",
    "                  [7 8]]\n",
    "\n",
    "      axis=1 → columns (across, horizontal direction).\n",
    "            ie :\n",
    "                  [[1 2 5 6]\n",
    "                  [3 4 7 8]]\n",
    "\n",
    "\n",
    "For a 3D array:  a cube → axis=0 (different cubes), axis=1 (rows inside each cube), axis=2 (columns inside each cube)\n",
    "\n",
    "      axis=0 → stacks along the first dimension (depth).\n",
    "            ie :\n",
    "                  [[[1 2]\n",
    "                  [3 4]]\n",
    "                  \n",
    "                  [[5 6]\n",
    "                  [7 8]]]\n",
    "\n",
    "      axis=1 → stacks along the second dimension (height).\n",
    "            ie :\n",
    "                  [[[1 2]\n",
    "                  [3 4]]\n",
    "                  \n",
    "                  [[5 6]\n",
    "                  [7 8]]]\n",
    "\n",
    "      axis=2 → stacks along the third dimension (width).\n",
    "            ie :\n",
    "                  [[[1 2 5 6]\n",
    "                  [3 4 7 8]]]\n",
    "\n",
    "For a 4D array:  Shape = (batch, channels, height, width)\n",
    "      axis=0 → stacks along the batch dimension.\n",
    "            ie :\n",
    "                  [[[[1 2]\n",
    "                  [3 4]]]\n",
    "                  \n",
    "                  [[[[5 6]\n",
    "                  [7 8]]]]\n",
    "\n",
    "      axis=1 → stacks along the channels dimension.\n",
    "            ie :\n",
    "                  [[[[1 2]\n",
    "                  [3 4]]\n",
    "                  \n",
    "                  [[5 6]\n",
    "                  [7 8]]]]\n",
    "\n",
    "      axis=2 → stacks along the height dimension.\n",
    "            ie :\n",
    "                  [[[[1 2]\n",
    "                  [3 4]]\n",
    "                  \n",
    "                  [[5 6]\n",
    "                  [7 8]]]]\n",
    "\n",
    "      axis=3 → stacks along the width dimension.\n",
    "            ie :\n",
    "                  [[[[1 2 5 6]\n",
    "                  [3 4 7 8]]]]\n",
    "\n",
    "            \n",
    "\n",
    "\n",
    "\n",
    "General Rule:\n",
    "\n",
    "axis=0 → stack vertically (increase rows).\n",
    "\n",
    "axis=1 → stack horizontally (increase columns).\n",
    "            "
   ]
  },
  {
   "cell_type": "code",
   "execution_count": 17,
   "id": "57d9b9e8",
   "metadata": {},
   "outputs": [],
   "source": [
    "a = np.array([1, 2, 3, 4])\n",
    "b = np.array([5, 6, 7, 8])\n",
    "z = np.concatenate((a, b))\n"
   ]
  },
  {
   "cell_type": "code",
   "execution_count": 13,
   "metadata": {},
   "outputs": [
    {
     "data": {
      "text/plain": [
       "array([[1, 2],\n",
       "       [3, 4],\n",
       "       [5, 6]])"
      ]
     },
     "execution_count": 13,
     "metadata": {},
     "output_type": "execute_result"
    }
   ],
   "source": [
    "x = np.array([[1, 2], [3, 4]])\n",
    "y = np.array([[5, 6]])\n",
    "\n",
    "\n",
    "np.concatenate((x, y),axis=0)"
   ]
  },
  {
   "cell_type": "code",
   "execution_count": 14,
   "id": "5fbecfd6",
   "metadata": {},
   "outputs": [
    {
     "name": "stdout",
     "output_type": "stream",
     "text": [
      "[[1 2]]\n",
      "[[1 2 5 6]]\n",
      "x shape prints: (1, 2)\n",
      "Z shape prints : (1, 4)\n"
     ]
    }
   ],
   "source": [
    "x = np.array([[1, 2]])\n",
    "y = np.array([[5, 6]])\n",
    "\n",
    "z = np.concatenate((x,y),axis=1)\n",
    "\n",
    "print(x)\n",
    "print(z)\n",
    "\n",
    "print('x shape prints:',x.shape)\n",
    "print('Z shape prints :',z.shape)"
   ]
  },
  {
   "cell_type": "code",
   "execution_count": 15,
   "id": "14a1c484",
   "metadata": {},
   "outputs": [
    {
     "name": "stdout",
     "output_type": "stream",
     "text": [
      "[[[1 2]\n",
      "  [3 4]]]\n",
      "\n",
      "\n",
      "\n",
      "\n",
      "[[[1 2]\n",
      "  [3 4]]\n",
      "\n",
      " [[5 6]\n",
      "  [7 8]]]\n",
      "a shape prints: (1, 2, 2)\n",
      "Z shape prints : (2, 2, 2)\n"
     ]
    }
   ],
   "source": [
    "# 3-Dimentional Array\n",
    "\n",
    "a = np.array([[[1, 2], [3, 4]]])\n",
    "\n",
    "b = np.array([[[5, 6], [7, 8]]])\n",
    "\n",
    "z = np.concatenate((a,b), axis=0)\n",
    "# The following is only true with axis = 0\n",
    "# shape = (2, 2, 2)\n",
    "# [[[1 2]   [[[5 6]\n",
    "#   [3 4]],   [7 8]]]\n",
    "\n",
    "print(a)\n",
    "print(\"\\n\\n\\n\")\n",
    "print(z)\n",
    "\n",
    "print(\"a shape prints:\", a.shape)\n",
    "print(\"Z shape prints :\", z.shape)"
   ]
  },
  {
   "cell_type": "code",
   "execution_count": 16,
   "id": "1e8aec9b",
   "metadata": {},
   "outputs": [
    {
     "data": {
      "text/plain": [
       "array([5, 6])"
      ]
     },
     "execution_count": 16,
     "metadata": {},
     "output_type": "execute_result"
    }
   ],
   "source": [
    "z[1,0]"
   ]
  },
  {
   "cell_type": "code",
   "execution_count": null,
   "id": "2708a4c5",
   "metadata": {},
   "outputs": [],
   "source": []
  },
  {
   "cell_type": "code",
   "execution_count": null,
   "id": "af233eec",
   "metadata": {},
   "outputs": [],
   "source": []
  },
  {
   "cell_type": "code",
   "execution_count": null,
   "metadata": {},
   "outputs": [],
   "source": []
  },
  {
   "cell_type": "code",
   "execution_count": null,
   "id": "fbd118b8",
   "metadata": {},
   "outputs": [],
   "source": []
  },
  {
   "cell_type": "code",
   "execution_count": null,
   "id": "2ad72210",
   "metadata": {},
   "outputs": [],
   "source": []
  },
  {
   "cell_type": "code",
   "execution_count": null,
   "id": "894c3356",
   "metadata": {},
   "outputs": [],
   "source": []
  },
  {
   "cell_type": "code",
   "execution_count": null,
   "metadata": {},
   "outputs": [],
   "source": []
  },
  {
   "cell_type": "code",
   "execution_count": null,
   "id": "ddf75797",
   "metadata": {},
   "outputs": [],
   "source": []
  },
  {
   "cell_type": "code",
   "execution_count": null,
   "id": "6c39d139",
   "metadata": {},
   "outputs": [],
   "source": []
  },
  {
   "cell_type": "code",
   "execution_count": null,
   "id": "82fd495e",
   "metadata": {},
   "outputs": [],
   "source": []
  },
  {
   "cell_type": "code",
   "execution_count": null,
   "id": "13cc4dec",
   "metadata": {},
   "outputs": [],
   "source": []
  },
  {
   "cell_type": "code",
   "execution_count": null,
   "id": "412367db",
   "metadata": {},
   "outputs": [],
   "source": []
  },
  {
   "cell_type": "code",
   "execution_count": null,
   "id": "a9195531",
   "metadata": {},
   "outputs": [],
   "source": []
  },
  {
   "cell_type": "code",
   "execution_count": null,
   "id": "1050fd27",
   "metadata": {},
   "outputs": [],
   "source": []
  },
  {
   "cell_type": "code",
   "execution_count": null,
   "id": "aca8e6a1",
   "metadata": {},
   "outputs": [],
   "source": []
  },
  {
   "cell_type": "code",
   "execution_count": null,
   "id": "6b6b9aa7",
   "metadata": {},
   "outputs": [],
   "source": []
  },
  {
   "cell_type": "code",
   "execution_count": null,
   "id": "1d92daff",
   "metadata": {},
   "outputs": [],
   "source": []
  },
  {
   "cell_type": "code",
   "execution_count": null,
   "id": "558524da",
   "metadata": {},
   "outputs": [],
   "source": []
  }
 ],
 "metadata": {
  "kernelspec": {
   "display_name": "KNCVU",
   "language": "python",
   "name": "python3"
  },
  "language_info": {
   "codemirror_mode": {
    "name": "ipython",
    "version": 3
   },
   "file_extension": ".py",
   "mimetype": "text/x-python",
   "name": "python",
   "nbconvert_exporter": "python",
   "pygments_lexer": "ipython3",
   "version": "3.12.1"
  }
 },
 "nbformat": 4,
 "nbformat_minor": 5
}
