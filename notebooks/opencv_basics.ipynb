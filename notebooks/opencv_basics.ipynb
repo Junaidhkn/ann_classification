{
 "cells": [
  {
   "cell_type": "code",
   "execution_count": 1,
   "id": "912c80dc",
   "metadata": {},
   "outputs": [],
   "source": [
    "# !pip install opencv-python\n",
    "# !pip install ipykernel"
   ]
  },
  {
   "cell_type": "code",
   "execution_count": 2,
   "id": "baa699b2",
   "metadata": {},
   "outputs": [],
   "source": [
    "import cv2 as cv"
   ]
  },
  {
   "cell_type": "code",
   "execution_count": 3,
   "id": "0dd1294d",
   "metadata": {},
   "outputs": [
    {
     "name": "stdout",
     "output_type": "stream",
     "text": [
      "Image loaded successfully!\n"
     ]
    }
   ],
   "source": [
    "image = cv.imread(\"../data/nangaparbat.jpg\")\n",
    "if image is None:\n",
    "   print('Could not open or find the image!')\n",
    "else:\n",
    "  print('Image loaded successfully!')"
   ]
  },
  {
   "cell_type": "code",
   "execution_count": 4,
   "id": "e2ee5181",
   "metadata": {},
   "outputs": [],
   "source": [
    "# this wouldnot work in a codespace environment due to no GUI support\n",
    "# Uncomment the following lines to display the image in a local environment\n",
    "\n",
    "# cv.imshow('Nanga Parbat', image)\n",
    "# cv.waitKey(0)\n",
    "# cv.destroyAllWindows()"
   ]
  },
  {
   "cell_type": "code",
   "execution_count": null,
   "id": "547792ef",
   "metadata": {},
   "outputs": [],
   "source": []
  }
 ],
 "metadata": {
  "kernelspec": {
   "display_name": "KNCVU",
   "language": "python",
   "name": "python3"
  },
  "language_info": {
   "codemirror_mode": {
    "name": "ipython",
    "version": 3
   },
   "file_extension": ".py",
   "mimetype": "text/x-python",
   "name": "python",
   "nbconvert_exporter": "python",
   "pygments_lexer": "ipython3",
   "version": "3.12.1"
  }
 },
 "nbformat": 4,
 "nbformat_minor": 5
}
