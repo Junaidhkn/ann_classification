{
 "cells": [
  {
   "cell_type": "code",
   "execution_count": 1,
   "id": "912c80dc",
   "metadata": {},
   "outputs": [],
   "source": [
    "# !pip install opencv-python\n",
    "# !pip install ipykernel"
   ]
  },
  {
   "cell_type": "code",
   "execution_count": 1,
   "id": "baa699b2",
   "metadata": {},
   "outputs": [],
   "source": [
    "import cv2 as cv"
   ]
  },
  {
   "cell_type": "code",
   "execution_count": 3,
   "id": "0dd1294d",
   "metadata": {},
   "outputs": [
    {
     "name": "stdout",
     "output_type": "stream",
     "text": [
      "Image loaded successfully!\n"
     ]
    }
   ],
   "source": [
    "image = cv.imread(\"../data/nangaparbat.jpg\")\n",
    "if image is None:\n",
    "   print('Could not open or find the image!')\n",
    "else:\n",
    "  print('Image loaded successfully!')"
   ]
  },
  {
   "cell_type": "code",
   "execution_count": 4,
   "id": "e2ee5181",
   "metadata": {},
   "outputs": [],
   "source": [
    "# this wouldnot work in a codespace environment due to no GUI support\n",
    "# Uncomment the following lines to display the image in a local environment\n",
    "\n",
    "# cv.imshow('Nanga Parbat', image)\n",
    "# cv.waitKey(0)\n",
    "# cv.destroyAllWindows()"
   ]
  },
  {
   "cell_type": "code",
   "execution_count": 5,
   "id": "547792ef",
   "metadata": {},
   "outputs": [
    {
     "data": {
      "text/plain": [
       "True"
      ]
     },
     "execution_count": 5,
     "metadata": {},
     "output_type": "execute_result"
    }
   ],
   "source": [
    "new_image = image + 30\n",
    "cv.imwrite('../data/output.jpg', new_image) "
   ]
  },
  {
   "cell_type": "markdown",
   "id": "8032bdc5",
   "metadata": {},
   "source": [
    "For Video"
   ]
  },
  {
   "cell_type": "code",
   "execution_count": null,
   "id": "bf689f34",
   "metadata": {},
   "outputs": [],
   "source": [
    "# Reading and displaying a video file\n",
    "# Uncomment the following lines to run in a local environment with GUI support\n",
    "video = cv.VideoCapture('/path')\n",
    "while True:\n",
    "   ret,frame = video.read()\n",
    "   if not ret:\n",
    "      break\n",
    "   cv.imshow('Video Frame', frame)\n",
    "   if cv.waitKey(1) & 0xFF == ord('q'):\n",
    "      break    \n",
    "video.release()\n",
    "cv.destroyAllWindows()"
   ]
  },
  {
   "cell_type": "code",
   "execution_count": null,
   "id": "d842f502",
   "metadata": {},
   "outputs": [],
   "source": [
    "# Writing a video file\n",
    "# Uncomment the following lines to run in a local environment with GUI support\n",
    "video = cv.VideoCapture('/path')\n",
    "fourcc = cv.VideoWriter_fourcc(*'mp4v')\n",
    "\n",
    "width = int(video.get(cv.CAP_PROP_FRAME_WIDTH))\n",
    "height = int(video.get(cv.CAP_PROP_FRAME_HEIGHT))\n",
    "\n",
    "out = cv.VideoWriter('output_video.mp4', fourcc, 30.0, (width, height))\n",
    "\n",
    "while True:\n",
    "   ret, frame = video.read()\n",
    "   if not ret:\n",
    "      break\n",
    "   out.write(frame)\n",
    "  \n",
    "  \n",
    "out.release()\n",
    "video.release()\n",
    "cv.destroyAllWindows()"
   ]
  },
  {
   "cell_type": "markdown",
   "id": "5b3ed6f2",
   "metadata": {},
   "source": [
    "# Exploring Color Models in image Processing"
   ]
  },
  {
   "cell_type": "code",
   "execution_count": 2,
   "id": "78deaf33",
   "metadata": {},
   "outputs": [],
   "source": [
    "bgr_image = cv.imread(\"../data/nangaparbat.jpg\")"
   ]
  },
  {
   "cell_type": "code",
   "execution_count": null,
   "id": "7c5f3f05",
   "metadata": {},
   "outputs": [
    {
     "data": {
      "text/plain": [
       "True"
      ]
     },
     "execution_count": 3,
     "metadata": {},
     "output_type": "execute_result"
    }
   ],
   "source": [
    "#Convert to grayscale\n",
    "gray_image = cv.cvtColor(bgr_image, cv.COLOR_BGR2GRAY)\n",
    "cv.imwrite('../data/gray_image.jpg', gray_image)"
   ]
  },
  {
   "cell_type": "code",
   "execution_count": 4,
   "id": "50d0608b",
   "metadata": {},
   "outputs": [
    {
     "data": {
      "text/plain": [
       "True"
      ]
     },
     "execution_count": 4,
     "metadata": {},
     "output_type": "execute_result"
    }
   ],
   "source": [
    "# Converting BGR to HSV\n",
    "hsv_image = cv.cvtColor(bgr_image, cv.COLOR_BGR2HSV)\n",
    "cv.imwrite(\"../data/hsv_image.jpg\", hsv_image)"
   ]
  },
  {
   "cell_type": "code",
   "execution_count": null,
   "id": "2274e2ff",
   "metadata": {},
   "outputs": [],
   "source": []
  },
  {
   "cell_type": "code",
   "execution_count": null,
   "id": "1f120369",
   "metadata": {},
   "outputs": [],
   "source": []
  },
  {
   "cell_type": "code",
   "execution_count": null,
   "id": "deb58276",
   "metadata": {},
   "outputs": [],
   "source": []
  },
  {
   "cell_type": "code",
   "execution_count": null,
   "id": "a895c27c",
   "metadata": {},
   "outputs": [],
   "source": []
  },
  {
   "cell_type": "code",
   "execution_count": null,
   "id": "b4e6593f",
   "metadata": {},
   "outputs": [],
   "source": []
  },
  {
   "cell_type": "code",
   "execution_count": null,
   "id": "66a1add1",
   "metadata": {},
   "outputs": [],
   "source": []
  },
  {
   "cell_type": "code",
   "execution_count": null,
   "id": "932f6019",
   "metadata": {},
   "outputs": [],
   "source": []
  },
  {
   "cell_type": "code",
   "execution_count": null,
   "id": "05e4ef2a",
   "metadata": {},
   "outputs": [],
   "source": []
  },
  {
   "cell_type": "code",
   "execution_count": null,
   "id": "2d707f13",
   "metadata": {},
   "outputs": [],
   "source": []
  },
  {
   "cell_type": "code",
   "execution_count": null,
   "id": "8e895e80",
   "metadata": {},
   "outputs": [],
   "source": []
  },
  {
   "cell_type": "code",
   "execution_count": null,
   "id": "076c6c42",
   "metadata": {},
   "outputs": [],
   "source": []
  }
 ],
 "metadata": {
  "kernelspec": {
   "display_name": "KNCVU",
   "language": "python",
   "name": "python3"
  },
  "language_info": {
   "codemirror_mode": {
    "name": "ipython",
    "version": 3
   },
   "file_extension": ".py",
   "mimetype": "text/x-python",
   "name": "python",
   "nbconvert_exporter": "python",
   "pygments_lexer": "ipython3",
   "version": "3.12.1"
  }
 },
 "nbformat": 4,
 "nbformat_minor": 5
}
